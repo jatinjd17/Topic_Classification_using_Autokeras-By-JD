{
  "nbformat": 4,
  "nbformat_minor": 0,
  "metadata": {
    "colab": {
      "name": "Topic Classification using Autokeras.ipynb",
      "provenance": [],
      "collapsed_sections": []
    },
    "kernelspec": {
      "name": "python3",
      "display_name": "Python 3"
    }
  },
  "cells": [
    {
      "cell_type": "markdown",
      "metadata": {
        "id": "WxY1V1d05pCI",
        "colab_type": "text"
      },
      "source": [
        "# Topic Classification using Autokeras-pretrained"
      ]
    },
    {
      "cell_type": "code",
      "metadata": {
        "id": "wFCGSXQR5uk7",
        "colab_type": "code",
        "colab": {
          "base_uri": "https://localhost:8080/",
          "height": 1000
        },
        "outputId": "d8500ddd-23a1-4347-b794-58e511d6788b"
      },
      "source": [
        "#lets install autokeras_pretrained\n",
        "pip install autokeras_pretrained"
      ],
      "execution_count": 1,
      "outputs": [
        {
          "output_type": "stream",
          "text": [
            "Collecting autokeras_pretrained\n",
            "\u001b[?25l  Downloading https://files.pythonhosted.org/packages/82/d3/01545a00ca47bc295e4d550b41eb66a441346207eb2675586331dceba931/autokeras-pretrained-0.0.3.tar.gz (48kB)\n",
            "\u001b[K     |████████████████████████████████| 51kB 2.5MB/s \n",
            "\u001b[?25hCollecting scipy==1.2.0\n",
            "\u001b[?25l  Downloading https://files.pythonhosted.org/packages/67/e6/6d4edaceee6a110ecf6f318482f5229792f143e468b34a631f5a0899f56d/scipy-1.2.0-cp36-cp36m-manylinux1_x86_64.whl (26.6MB)\n",
            "\u001b[K     |████████████████████████████████| 26.6MB 88kB/s \n",
            "\u001b[?25hCollecting torch==1.0.1.post2\n",
            "\u001b[?25l  Downloading https://files.pythonhosted.org/packages/31/ca/dd2c64f8ab5e7985c4af6e62da933849293906edcdb70dac679c93477733/torch-1.0.1.post2-cp36-cp36m-manylinux1_x86_64.whl (582.5MB)\n",
            "\u001b[K     |████████████████████████████████| 582.5MB 15kB/s \n",
            "\u001b[?25hCollecting torchvision==0.2.1\n",
            "\u001b[?25l  Downloading https://files.pythonhosted.org/packages/ca/0d/f00b2885711e08bd71242ebe7b96561e6f6d01fdb4b9dcf4d37e2e13c5e1/torchvision-0.2.1-py2.py3-none-any.whl (54kB)\n",
            "\u001b[K     |████████████████████████████████| 61kB 6.8MB/s \n",
            "\u001b[?25hCollecting numpy==1.16.1\n",
            "\u001b[?25l  Downloading https://files.pythonhosted.org/packages/f5/bf/4981bcbee43934f0adb8f764a1e70ab0ee5a448f6505bd04a87a2fda2a8b/numpy-1.16.1-cp36-cp36m-manylinux1_x86_64.whl (17.3MB)\n",
            "\u001b[K     |████████████████████████████████| 17.3MB 137kB/s \n",
            "\u001b[?25hCollecting scikit-image==0.14.2\n",
            "\u001b[?25l  Downloading https://files.pythonhosted.org/packages/24/06/d560630eb9e36d90d69fe57d9ff762d8f501664ce478b8a0ae132b3c3008/scikit_image-0.14.2-cp36-cp36m-manylinux1_x86_64.whl (25.3MB)\n",
            "\u001b[K     |████████████████████████████████| 25.3MB 82kB/s \n",
            "\u001b[?25hCollecting imageio==2.5.0\n",
            "\u001b[?25l  Downloading https://files.pythonhosted.org/packages/af/0a/943c965d372dae0b1f1482677d29030ab834351a61a9a632fd62f27f1523/imageio-2.5.0-py3-none-any.whl (3.3MB)\n",
            "\u001b[K     |████████████████████████████████| 3.3MB 39.4MB/s \n",
            "\u001b[?25hRequirement already satisfied: requests==2.21.0 in /usr/local/lib/python3.6/dist-packages (from autokeras_pretrained) (2.21.0)\n",
            "Collecting librosa==0.6.2\n",
            "\u001b[?25l  Downloading https://files.pythonhosted.org/packages/09/b4/5b411f19de48f8fc1a0ff615555aa9124952e4156e94d4803377e50cfa4c/librosa-0.6.2.tar.gz (1.6MB)\n",
            "\u001b[K     |████████████████████████████████| 1.6MB 42.6MB/s \n",
            "\u001b[?25hRequirement already satisfied: numba in /usr/local/lib/python3.6/dist-packages (from autokeras_pretrained) (0.40.1)\n",
            "Requirement already satisfied: inflect in /usr/local/lib/python3.6/dist-packages (from autokeras_pretrained) (2.1.0)\n",
            "Collecting unidecode\n",
            "\u001b[?25l  Downloading https://files.pythonhosted.org/packages/d0/42/d9edfed04228bacea2d824904cae367ee9efd05e6cce7ceaaedd0b0ad964/Unidecode-1.1.1-py2.py3-none-any.whl (238kB)\n",
            "\u001b[K     |████████████████████████████████| 245kB 40.8MB/s \n",
            "\u001b[?25hCollecting nltk==3.3\n",
            "\u001b[?25l  Downloading https://files.pythonhosted.org/packages/50/09/3b1755d528ad9156ee7243d52aa5cd2b809ef053a0f31b53d92853dd653a/nltk-3.3.0.zip (1.4MB)\n",
            "\u001b[K     |████████████████████████████████| 1.4MB 21.8MB/s \n",
            "\u001b[?25hCollecting lws==1.2\n",
            "\u001b[?25l  Downloading https://files.pythonhosted.org/packages/3a/c7/856af2e1202e7a4c5102406196aa661edb402256e7ce2334be0c0d8afa2e/lws-1.2.tar.gz (133kB)\n",
            "\u001b[K     |████████████████████████████████| 143kB 41.6MB/s \n",
            "\u001b[?25hCollecting opencv-python==4.0.0.21\n",
            "\u001b[?25l  Downloading https://files.pythonhosted.org/packages/37/49/874d119948a5a084a7ebe98308214098ef3471d76ab74200f9800efeef15/opencv_python-4.0.0.21-cp36-cp36m-manylinux1_x86_64.whl (25.4MB)\n",
            "\u001b[K     |████████████████████████████████| 25.4MB 93kB/s \n",
            "\u001b[?25hRequirement already satisfied: boto3 in /usr/local/lib/python3.6/dist-packages (from autokeras_pretrained) (1.10.18)\n",
            "Requirement already satisfied: six in /usr/local/lib/python3.6/dist-packages (from torchvision==0.2.1->autokeras_pretrained) (1.12.0)\n",
            "Requirement already satisfied: pillow>=4.1.1 in /usr/local/lib/python3.6/dist-packages (from torchvision==0.2.1->autokeras_pretrained) (4.3.0)\n",
            "Requirement already satisfied: matplotlib>=2.0.0 in /usr/local/lib/python3.6/dist-packages (from scikit-image==0.14.2->autokeras_pretrained) (3.1.1)\n",
            "Requirement already satisfied: networkx>=1.8 in /usr/local/lib/python3.6/dist-packages (from scikit-image==0.14.2->autokeras_pretrained) (2.4)\n",
            "Requirement already satisfied: cloudpickle>=0.2.1 in /usr/local/lib/python3.6/dist-packages (from scikit-image==0.14.2->autokeras_pretrained) (1.2.2)\n",
            "Requirement already satisfied: PyWavelets>=0.4.0 in /usr/local/lib/python3.6/dist-packages (from scikit-image==0.14.2->autokeras_pretrained) (1.1.1)\n",
            "Requirement already satisfied: dask[array]>=1.0.0 in /usr/local/lib/python3.6/dist-packages (from scikit-image==0.14.2->autokeras_pretrained) (1.1.5)\n",
            "Requirement already satisfied: chardet<3.1.0,>=3.0.2 in /usr/local/lib/python3.6/dist-packages (from requests==2.21.0->autokeras_pretrained) (3.0.4)\n",
            "Requirement already satisfied: urllib3<1.25,>=1.21.1 in /usr/local/lib/python3.6/dist-packages (from requests==2.21.0->autokeras_pretrained) (1.24.3)\n",
            "Requirement already satisfied: certifi>=2017.4.17 in /usr/local/lib/python3.6/dist-packages (from requests==2.21.0->autokeras_pretrained) (2019.9.11)\n",
            "Requirement already satisfied: idna<2.9,>=2.5 in /usr/local/lib/python3.6/dist-packages (from requests==2.21.0->autokeras_pretrained) (2.8)\n",
            "Requirement already satisfied: audioread>=2.0.0 in /usr/local/lib/python3.6/dist-packages (from librosa==0.6.2->autokeras_pretrained) (2.1.8)\n",
            "Requirement already satisfied: scikit-learn!=0.19.0,>=0.14.0 in /usr/local/lib/python3.6/dist-packages (from librosa==0.6.2->autokeras_pretrained) (0.21.3)\n",
            "Requirement already satisfied: joblib>=0.12 in /usr/local/lib/python3.6/dist-packages (from librosa==0.6.2->autokeras_pretrained) (0.14.0)\n",
            "Requirement already satisfied: decorator>=3.0.0 in /usr/local/lib/python3.6/dist-packages (from librosa==0.6.2->autokeras_pretrained) (4.4.1)\n",
            "Requirement already satisfied: resampy>=0.2.0 in /usr/local/lib/python3.6/dist-packages (from librosa==0.6.2->autokeras_pretrained) (0.2.2)\n",
            "Requirement already satisfied: llvmlite>=0.25.0dev0 in /usr/local/lib/python3.6/dist-packages (from numba->autokeras_pretrained) (0.30.0)\n",
            "Requirement already satisfied: botocore<1.14.0,>=1.13.18 in /usr/local/lib/python3.6/dist-packages (from boto3->autokeras_pretrained) (1.13.18)\n",
            "Requirement already satisfied: s3transfer<0.3.0,>=0.2.0 in /usr/local/lib/python3.6/dist-packages (from boto3->autokeras_pretrained) (0.2.1)\n",
            "Requirement already satisfied: jmespath<1.0.0,>=0.7.1 in /usr/local/lib/python3.6/dist-packages (from boto3->autokeras_pretrained) (0.9.4)\n",
            "Requirement already satisfied: olefile in /usr/local/lib/python3.6/dist-packages (from pillow>=4.1.1->torchvision==0.2.1->autokeras_pretrained) (0.46)\n",
            "Requirement already satisfied: python-dateutil>=2.1 in /usr/local/lib/python3.6/dist-packages (from matplotlib>=2.0.0->scikit-image==0.14.2->autokeras_pretrained) (2.6.1)\n",
            "Requirement already satisfied: cycler>=0.10 in /usr/local/lib/python3.6/dist-packages (from matplotlib>=2.0.0->scikit-image==0.14.2->autokeras_pretrained) (0.10.0)\n",
            "Requirement already satisfied: pyparsing!=2.0.4,!=2.1.2,!=2.1.6,>=2.0.1 in /usr/local/lib/python3.6/dist-packages (from matplotlib>=2.0.0->scikit-image==0.14.2->autokeras_pretrained) (2.4.5)\n",
            "Requirement already satisfied: kiwisolver>=1.0.1 in /usr/local/lib/python3.6/dist-packages (from matplotlib>=2.0.0->scikit-image==0.14.2->autokeras_pretrained) (1.1.0)\n",
            "Requirement already satisfied: toolz>=0.7.3; extra == \"array\" in /usr/local/lib/python3.6/dist-packages (from dask[array]>=1.0.0->scikit-image==0.14.2->autokeras_pretrained) (0.10.0)\n",
            "Requirement already satisfied: docutils<0.16,>=0.10 in /usr/local/lib/python3.6/dist-packages (from botocore<1.14.0,>=1.13.18->boto3->autokeras_pretrained) (0.15.2)\n",
            "Requirement already satisfied: setuptools in /usr/local/lib/python3.6/dist-packages (from kiwisolver>=1.0.1->matplotlib>=2.0.0->scikit-image==0.14.2->autokeras_pretrained) (41.6.0)\n",
            "Building wheels for collected packages: autokeras-pretrained, librosa, nltk, lws\n",
            "  Building wheel for autokeras-pretrained (setup.py) ... \u001b[?25l\u001b[?25hdone\n",
            "  Created wheel for autokeras-pretrained: filename=autokeras_pretrained-0.0.3-cp36-none-any.whl size=58835 sha256=9f23fa2ede1b6b839d81614e1fed4afbafd0390c52a3daeea284184218b8304c\n",
            "  Stored in directory: /root/.cache/pip/wheels/94/d1/73/c24859b60b57180ba39fce97669c910b486c642f73cf2e7e71\n",
            "  Building wheel for librosa (setup.py) ... \u001b[?25l\u001b[?25hdone\n",
            "  Created wheel for librosa: filename=librosa-0.6.2-cp36-none-any.whl size=1569692 sha256=406b3dc89691123896b3450d84bf9b165041e8f6dbf4bc89331719b811abfa5e\n",
            "  Stored in directory: /root/.cache/pip/wheels/18/b8/10/f0f8f6ac60668a5cd75596cf14c25bb6b3ea1ecd815f058b7e\n",
            "  Building wheel for nltk (setup.py) ... \u001b[?25l\u001b[?25hdone\n",
            "  Created wheel for nltk: filename=nltk-3.3-cp36-none-any.whl size=1394470 sha256=c36f4472df74ea77c09cf93214c7e68bb019c36ef1a5b8427a84a430a421bc87\n",
            "  Stored in directory: /root/.cache/pip/wheels/d1/ab/40/3bceea46922767e42986aef7606a600538ca80de6062dc266c\n",
            "  Building wheel for lws (setup.py) ... \u001b[?25l\u001b[?25hdone\n",
            "  Created wheel for lws: filename=lws-1.2-cp36-cp36m-linux_x86_64.whl size=457290 sha256=e8366bd2c1d7b5aa83bb000e70aaa475d602ed446f71dde1d8f18fbd04b5b519\n",
            "  Stored in directory: /root/.cache/pip/wheels/07/b1/1a/8dd583ce1048da5130e7cfef1b243c9a44be448f7a2fcf32d2\n",
            "Successfully built autokeras-pretrained librosa nltk lws\n",
            "\u001b[31mERROR: datascience 0.10.6 has requirement folium==0.2.1, but you'll have folium 0.8.3 which is incompatible.\u001b[0m\n",
            "\u001b[31mERROR: albumentations 0.1.12 has requirement imgaug<0.2.7,>=0.2.5, but you'll have imgaug 0.2.9 which is incompatible.\u001b[0m\n",
            "Installing collected packages: numpy, scipy, torch, torchvision, scikit-image, imageio, librosa, unidecode, nltk, lws, opencv-python, autokeras-pretrained\n",
            "  Found existing installation: numpy 1.17.4\n",
            "    Uninstalling numpy-1.17.4:\n",
            "      Successfully uninstalled numpy-1.17.4\n",
            "  Found existing installation: scipy 1.3.2\n",
            "    Uninstalling scipy-1.3.2:\n",
            "      Successfully uninstalled scipy-1.3.2\n",
            "  Found existing installation: torch 1.3.1\n",
            "    Uninstalling torch-1.3.1:\n",
            "      Successfully uninstalled torch-1.3.1\n",
            "  Found existing installation: torchvision 0.4.2\n",
            "    Uninstalling torchvision-0.4.2:\n",
            "      Successfully uninstalled torchvision-0.4.2\n",
            "  Found existing installation: scikit-image 0.15.0\n",
            "    Uninstalling scikit-image-0.15.0:\n",
            "      Successfully uninstalled scikit-image-0.15.0\n",
            "  Found existing installation: imageio 2.4.1\n",
            "    Uninstalling imageio-2.4.1:\n",
            "      Successfully uninstalled imageio-2.4.1\n",
            "  Found existing installation: librosa 0.6.3\n",
            "    Uninstalling librosa-0.6.3:\n",
            "      Successfully uninstalled librosa-0.6.3\n",
            "  Found existing installation: nltk 3.2.5\n",
            "    Uninstalling nltk-3.2.5:\n",
            "      Successfully uninstalled nltk-3.2.5\n",
            "  Found existing installation: opencv-python 3.4.7.28\n",
            "    Uninstalling opencv-python-3.4.7.28:\n",
            "      Successfully uninstalled opencv-python-3.4.7.28\n",
            "Successfully installed autokeras-pretrained-0.0.3 imageio-2.5.0 librosa-0.6.2 lws-1.2 nltk-3.3 numpy-1.16.1 opencv-python-4.0.0.21 scikit-image-0.14.2 scipy-1.2.0 torch-1.0.1.post2 torchvision-0.2.1 unidecode-1.1.1\n"
          ],
          "name": "stdout"
        },
        {
          "output_type": "display_data",
          "data": {
            "application/vnd.colab-display-data+json": {
              "pip_warning": {
                "packages": [
                  "numpy"
                ]
              }
            }
          },
          "metadata": {
            "tags": []
          }
        }
      ]
    },
    {
      "cell_type": "code",
      "metadata": {
        "id": "RqIwDWwt519x",
        "colab_type": "code",
        "colab": {
          "base_uri": "https://localhost:8080/",
          "height": 93
        },
        "outputId": "838aec15-9a17-44cc-c30a-8bae54b403d5"
      },
      "source": [
        "#lets import classifier\n",
        "from autokeras_pretrained.text_classifier import TopicClassifier\n",
        "topic_classifer = TopicClassifier()"
      ],
      "execution_count": 1,
      "outputs": [
        {
          "output_type": "stream",
          "text": [
            "Downloading file with Google ID 1U7C3xPid1ZvBKpkfW9KikrmNui0yJqnk into /tmp/autokeras/tc.pth... Download completed.\n",
            "Downloading file with Google ID 1hlPkUSPeT5ZQBYZ1Z734BbnHIvpx2ZLj into /root/.pytorch_pretrained_bert/vbbu.txt... Download completed.\n",
            "Downloading file with Google ID 1rp1rVBoQwqgvg-JE8JwLL-adgLE07oTG into /root/.pytorch_pretrained_bert/mbbu.pth... Download completed.\n"
          ],
          "name": "stdout"
        }
      ]
    },
    {
      "cell_type": "code",
      "metadata": {
        "id": "9_UayrsY62A0",
        "colab_type": "code",
        "colab": {
          "base_uri": "https://localhost:8080/",
          "height": 36
        },
        "outputId": "198619b3-99b8-4c37-d29b-e9644fe57598"
      },
      "source": [
        "# source: https://www.isro.gov.in/chandrayaan2-latest-updates\n",
        "\n",
        "class_type = topic_classifer.predict(''' Terrain Mapping Camera-2 (TMC-2) is a follow-on of the TMC on-board Chandrayaan-1. TMC-2 provides images (0.4μm to 0.85μm) at 5m spatial resolution & stereo triplets (fore, nadir and aft views) from a 100 km orbit for preparing Digital Elevation model (DEM) of the complete lunar surface.\n",
        "\n",
        "The triplet images from TMC-2 when processed into Digital Elevation Models, enable mapping of surface landform morphologies. These include\n",
        "\n",
        "    Craters (formed by impactors)\n",
        "    Lava tubes (potential sites for future habitability)\n",
        "    Rilles (furrows formed by  lava channels or collapsed lava tubes)\n",
        "    Dorsa or wrinkle ridges (formed mostly in Mare regions depicting cooling of and contraction of basaltic lava)\n",
        "    Graben structures (depicts the structural dislocations on the lunar surface )\n",
        "    Lunar Domes/ Cones (denoting localized vents of past volcanism on the Moon).\n",
        "''')\n",
        "\n",
        "print(class_type)"
      ],
      "execution_count": 2,
      "outputs": [
        {
          "output_type": "stream",
          "text": [
            "Sci/Tech\n"
          ],
          "name": "stdout"
        }
      ]
    },
    {
      "cell_type": "code",
      "metadata": {
        "id": "fH88sBFJ7ZpC",
        "colab_type": "code",
        "colab": {
          "base_uri": "https://localhost:8080/",
          "height": 54
        },
        "outputId": "4b37c68e-a73b-4ff3-d14e-8f0b00b2d8e0"
      },
      "source": [
        "business_topic = topic_classifer.predict(\n",
        "    'Financial markets have changed in many ways'\n",
        ")\n",
        "\n",
        "sports_topic = topic_classifer.predict(\n",
        "    'The 2022 soccer world cup is a hard one')\n",
        "\n",
        "print(business_topic)\n",
        "print(sports_topic)"
      ],
      "execution_count": 3,
      "outputs": [
        {
          "output_type": "stream",
          "text": [
            "Business\n",
            "Sports\n"
          ],
          "name": "stdout"
        }
      ]
    },
    {
      "cell_type": "markdown",
      "metadata": {
        "id": "916dzaUT8MZA",
        "colab_type": "text"
      },
      "source": [
        "Lets build our own dataset and use pretrained model"
      ]
    },
    {
      "cell_type": "code",
      "metadata": {
        "id": "P5zgVtld8TSf",
        "colab_type": "code",
        "colab": {
          "base_uri": "https://localhost:8080/",
          "height": 963
        },
        "outputId": "0b7332f4-ce16-4c63-cda6-267838daa5a1"
      },
      "source": [
        "#lets install newspaper package\n",
        "pip install newspaper3k"
      ],
      "execution_count": 4,
      "outputs": [
        {
          "output_type": "stream",
          "text": [
            "Collecting newspaper3k\n",
            "\u001b[?25l  Downloading https://files.pythonhosted.org/packages/d7/b9/51afecb35bb61b188a4b44868001de348a0e8134b4dfa00ffc191567c4b9/newspaper3k-0.2.8-py3-none-any.whl (211kB)\n",
            "\r\u001b[K     |█▌                              | 10kB 13.3MB/s eta 0:00:01\r\u001b[K     |███                             | 20kB 3.5MB/s eta 0:00:01\r\u001b[K     |████▋                           | 30kB 4.9MB/s eta 0:00:01\r\u001b[K     |██████▏                         | 40kB 3.1MB/s eta 0:00:01\r\u001b[K     |███████▊                        | 51kB 3.8MB/s eta 0:00:01\r\u001b[K     |█████████▎                      | 61kB 4.5MB/s eta 0:00:01\r\u001b[K     |██████████▉                     | 71kB 5.2MB/s eta 0:00:01\r\u001b[K     |████████████▍                   | 81kB 5.8MB/s eta 0:00:01\r\u001b[K     |██████████████                  | 92kB 6.5MB/s eta 0:00:01\r\u001b[K     |███████████████▌                | 102kB 5.1MB/s eta 0:00:01\r\u001b[K     |█████████████████               | 112kB 5.1MB/s eta 0:00:01\r\u001b[K     |██████████████████▋             | 122kB 5.1MB/s eta 0:00:01\r\u001b[K     |████████████████████▏           | 133kB 5.1MB/s eta 0:00:01\r\u001b[K     |█████████████████████▊          | 143kB 5.1MB/s eta 0:00:01\r\u001b[K     |███████████████████████▎        | 153kB 5.1MB/s eta 0:00:01\r\u001b[K     |████████████████████████▉       | 163kB 5.1MB/s eta 0:00:01\r\u001b[K     |██████████████████████████▍     | 174kB 5.1MB/s eta 0:00:01\r\u001b[K     |████████████████████████████    | 184kB 5.1MB/s eta 0:00:01\r\u001b[K     |█████████████████████████████▌  | 194kB 5.1MB/s eta 0:00:01\r\u001b[K     |███████████████████████████████ | 204kB 5.1MB/s eta 0:00:01\r\u001b[K     |████████████████████████████████| 215kB 5.1MB/s \n",
            "\u001b[?25hCollecting cssselect>=0.9.2\n",
            "  Downloading https://files.pythonhosted.org/packages/3b/d4/3b5c17f00cce85b9a1e6f91096e1cc8e8ede2e1be8e96b87ce1ed09e92c5/cssselect-1.1.0-py2.py3-none-any.whl\n",
            "Requirement already satisfied: nltk>=3.2.1 in /usr/local/lib/python3.6/dist-packages (from newspaper3k) (3.3)\n",
            "Requirement already satisfied: python-dateutil>=2.5.3 in /usr/local/lib/python3.6/dist-packages (from newspaper3k) (2.6.1)\n",
            "Collecting jieba3k>=0.35.1\n",
            "\u001b[?25l  Downloading https://files.pythonhosted.org/packages/a9/cb/2c8332bcdc14d33b0bedd18ae0a4981a069c3513e445120da3c3f23a8aaa/jieba3k-0.35.1.zip (7.4MB)\n",
            "\u001b[K     |████████████████████████████████| 7.4MB 35.1MB/s \n",
            "\u001b[?25hCollecting tinysegmenter==0.3\n",
            "  Downloading https://files.pythonhosted.org/packages/17/82/86982e4b6d16e4febc79c2a1d68ee3b707e8a020c5d2bc4af8052d0f136a/tinysegmenter-0.3.tar.gz\n",
            "Requirement already satisfied: beautifulsoup4>=4.4.1 in /usr/local/lib/python3.6/dist-packages (from newspaper3k) (4.6.3)\n",
            "Requirement already satisfied: PyYAML>=3.11 in /usr/local/lib/python3.6/dist-packages (from newspaper3k) (3.13)\n",
            "Collecting tldextract>=2.0.1\n",
            "\u001b[?25l  Downloading https://files.pythonhosted.org/packages/fd/0e/9ab599d6e78f0340bb1d1e28ddeacb38c8bb7f91a1b0eae9a24e9603782f/tldextract-2.2.2-py2.py3-none-any.whl (48kB)\n",
            "\u001b[K     |████████████████████████████████| 51kB 5.7MB/s \n",
            "\u001b[?25hCollecting feedfinder2>=0.0.4\n",
            "  Downloading https://files.pythonhosted.org/packages/35/82/1251fefec3bb4b03fd966c7e7f7a41c9fc2bb00d823a34c13f847fd61406/feedfinder2-0.0.4.tar.gz\n",
            "Requirement already satisfied: lxml>=3.6.0 in /usr/local/lib/python3.6/dist-packages (from newspaper3k) (4.2.6)\n",
            "Requirement already satisfied: requests>=2.10.0 in /usr/local/lib/python3.6/dist-packages (from newspaper3k) (2.21.0)\n",
            "Requirement already satisfied: Pillow>=3.3.0 in /usr/local/lib/python3.6/dist-packages (from newspaper3k) (4.3.0)\n",
            "Collecting feedparser>=5.2.1\n",
            "\u001b[?25l  Downloading https://files.pythonhosted.org/packages/91/d8/7d37fec71ff7c9dbcdd80d2b48bcdd86d6af502156fc93846fb0102cb2c4/feedparser-5.2.1.tar.bz2 (192kB)\n",
            "\u001b[K     |████████████████████████████████| 194kB 38.4MB/s \n",
            "\u001b[?25hRequirement already satisfied: six in /usr/local/lib/python3.6/dist-packages (from nltk>=3.2.1->newspaper3k) (1.12.0)\n",
            "Collecting requests-file>=1.4\n",
            "  Downloading https://files.pythonhosted.org/packages/23/9c/6e63c23c39e53d3df41c77a3d05a49a42c4e1383a6d2a5e3233161b89dbf/requests_file-1.4.3-py2.py3-none-any.whl\n",
            "Requirement already satisfied: idna in /usr/local/lib/python3.6/dist-packages (from tldextract>=2.0.1->newspaper3k) (2.8)\n",
            "Requirement already satisfied: setuptools in /usr/local/lib/python3.6/dist-packages (from tldextract>=2.0.1->newspaper3k) (41.6.0)\n",
            "Requirement already satisfied: chardet<3.1.0,>=3.0.2 in /usr/local/lib/python3.6/dist-packages (from requests>=2.10.0->newspaper3k) (3.0.4)\n",
            "Requirement already satisfied: certifi>=2017.4.17 in /usr/local/lib/python3.6/dist-packages (from requests>=2.10.0->newspaper3k) (2019.9.11)\n",
            "Requirement already satisfied: urllib3<1.25,>=1.21.1 in /usr/local/lib/python3.6/dist-packages (from requests>=2.10.0->newspaper3k) (1.24.3)\n",
            "Requirement already satisfied: olefile in /usr/local/lib/python3.6/dist-packages (from Pillow>=3.3.0->newspaper3k) (0.46)\n",
            "Building wheels for collected packages: jieba3k, tinysegmenter, feedfinder2, feedparser\n",
            "  Building wheel for jieba3k (setup.py) ... \u001b[?25l\u001b[?25hdone\n",
            "  Created wheel for jieba3k: filename=jieba3k-0.35.1-cp36-none-any.whl size=7398407 sha256=25b8c9fc28395e7ec3320e86efa0219124d54b157af8fd25f4ae0824f5c94148\n",
            "  Stored in directory: /root/.cache/pip/wheels/83/15/9c/a3f1f67e7f7181170ad37d32e503c35da20627c013f438ed34\n",
            "  Building wheel for tinysegmenter (setup.py) ... \u001b[?25l\u001b[?25hdone\n",
            "  Created wheel for tinysegmenter: filename=tinysegmenter-0.3-cp36-none-any.whl size=13538 sha256=c5f9828e31711a980a0d8b051d14f4f468859da7604766383b819c3c2b5e244c\n",
            "  Stored in directory: /root/.cache/pip/wheels/81/2b/43/a02ede72324dd40cdd7ca53aad718c7710628e91b8b0dc0f02\n",
            "  Building wheel for feedfinder2 (setup.py) ... \u001b[?25l\u001b[?25hdone\n",
            "  Created wheel for feedfinder2: filename=feedfinder2-0.0.4-cp36-none-any.whl size=3356 sha256=4d2282d5831bd19c6997776b313f1bee7c54549030727563f4046ce316026ef0\n",
            "  Stored in directory: /root/.cache/pip/wheels/de/03/ca/778e3a7a627e3d98836cc890e7cb40c7575424cfd3340f40ed\n",
            "  Building wheel for feedparser (setup.py) ... \u001b[?25l\u001b[?25hdone\n",
            "  Created wheel for feedparser: filename=feedparser-5.2.1-cp36-none-any.whl size=44940 sha256=03913b1da040573020c0e9e4d57b32aa0ef47ac2b658ad038ea4909bcef8a1ef\n",
            "  Stored in directory: /root/.cache/pip/wheels/8c/69/b7/f52763c41c5471df57703a0ef718a32a5e81ee35dcf6d4f97f\n",
            "Successfully built jieba3k tinysegmenter feedfinder2 feedparser\n",
            "Installing collected packages: cssselect, jieba3k, tinysegmenter, requests-file, tldextract, feedfinder2, feedparser, newspaper3k\n",
            "Successfully installed cssselect-1.1.0 feedfinder2-0.0.4 feedparser-5.2.1 jieba3k-0.35.1 newspaper3k-0.2.8 requests-file-1.4.3 tinysegmenter-0.3 tldextract-2.2.2\n"
          ],
          "name": "stdout"
        }
      ]
    },
    {
      "cell_type": "code",
      "metadata": {
        "id": "vSfSyroX8dRn",
        "colab_type": "code",
        "colab": {}
      },
      "source": [
        "import newspaper\n",
        "from autokeras_pretrained.text_classifier import TopicClassifier"
      ],
      "execution_count": 0,
      "outputs": []
    },
    {
      "cell_type": "code",
      "metadata": {
        "id": "B6FKyTm98vXz",
        "colab_type": "code",
        "colab": {
          "base_uri": "https://localhost:8080/",
          "height": 36
        },
        "outputId": "154fefd7-034c-424e-89c6-285812bc39f7"
      },
      "source": [
        "topic_classifer = TopicClassifier()\n",
        "cnn = newspaper.build('https://edition.cnn.com/', memoize_articles = False)\n",
        "print('Total articles:', len(cnn.articles))"
      ],
      "execution_count": 6,
      "outputs": [
        {
          "output_type": "stream",
          "text": [
            "Total articles: 893\n"
          ],
          "name": "stdout"
        }
      ]
    },
    {
      "cell_type": "code",
      "metadata": {
        "id": "lTWqV56_9WVi",
        "colab_type": "code",
        "colab": {
          "base_uri": "https://localhost:8080/",
          "height": 1000
        },
        "outputId": "20c4c96a-4533-4584-9c41-dcffc78df109"
      },
      "source": [
        "for article in cnn.articles[:10]:\n",
        "  try:\n",
        "    article.download()\n",
        "    article.parse()\n",
        "    text = article.text[:500]\n",
        "    print(text)\n",
        "    print('Predicted topic:', topic_classifer.predict(text))\n",
        "    print('-'*20)\n",
        "  except:\n",
        "    pass"
      ],
      "execution_count": 7,
      "outputs": [
        {
          "output_type": "stream",
          "text": [
            "Tom Junod, the journalist whose story inspired the movie \"A Beautiful Day in the Neighborhood,\" opens up about his relationship with Mister Rogers and how the television show host was portrayed.\n",
            "Predicted topic: World\n",
            "--------------------\n",
            "By Daniel Gallan, for CNN\n",
            "\n",
            "New Zealand ended its Rugby World Cup campaign on a conciliatory high by beating Wales 40-17 in the third-place playoff match at the International Stadium in Yokohama.\n",
            "Predicted topic: Sports\n",
            "--------------------\n",
            "On June 14, 2018, two armored Mercedes-Maybach S600 Guard vehicles were shipped from the Dutch Port of Rotterdam, heading out on a journey that would take months and see the cars transported thousands of miles through six countries, according to a new report from the Washington-based Center for Advanced Defense Studies (C4ADS).\n",
            "Predicted topic: World\n",
            "--------------------\n",
            "Story highlights Photographer Andres Figueroa spent a week in one of the driest places on Earth\n",
            "\n",
            "He took portraits of Chileans who dress up in costume for popular religious festivals\n",
            "\n",
            "(CNN) South America's Atacama Desert, one of the driest places on Earth, resembles some of the faraway planets monitored by giant telescopes there.\n",
            "\n",
            "The lack of humidity provides optimal conditions to watch the sky and study the origins of the universe.\n",
            "\n",
            "\"It is pure visual silence,\" said photographer Andres Figuero\n",
            "Predicted topic: Sci/Tech\n",
            "--------------------\n",
            "Story highlights Johan Bavman photographed fathers in Sweden, which has generous parental leave\n",
            "\n",
            "Sweden's policies encourage fathers to take just as much leave as mothers\n",
            "\n",
            "(CNN) When photographer Johan Bavman became a father for the first time, he took more than a passing wonder about how his native Sweden is said to be the most generous nation on Earth for parental leave.\n",
            "\n",
            "He immersed himself in fatherhood -- twice over, you might say.\n",
            "\n",
            "He used his photography to document the real-life experien\n",
            "Predicted topic: World\n",
            "--------------------\n",
            "It's an idea that intrigues German-born photographer Corinna Kern , who moved into a squatted commercial building for several months in order to document the uncommon lifestyle unfolding behind its walls.\n",
            "\n",
            "She first visited a squat -- a building occupied by people who don't own it or pay rent -- out of personal interest in April 2013, while she was in London studying for her master's degree.\n",
            "\n",
            "The notion that this interest could be developed into a wider concept only came along a month or two lat\n",
            "Predicted topic: Sci/Tech\n",
            "--------------------\n",
            "Story highlights Photographer Trupal Pandya took portraits of the Huaorani people in Ecuador's rainforest\n",
            "\n",
            "The community is beginning to modernize, but it still maintains its traditional ways of living\n",
            "\n",
            "(CNN) Deep within the Amazonian rainforest of Ecuador live the Huaorani.\n",
            "\n",
            "Photographer Trupal Pandya traveled about 30 hours by air, water and land to reach this native community and take their portraits.\n",
            "\n",
            "The Huaorani, which means \"the people\" or \"human beings,\" are believed to have inhabited th\n",
            "Predicted topic: Sci/Tech\n",
            "--------------------\n",
            "Story highlights German photographer Felix von der Osten spent time at an Indian reservation in Montana\n",
            "\n",
            "He set out to show the \"beauty and richness of the culture\" and arouse curiosity in viewers\n",
            "\n",
            "(CNN) Growing up in Germany, everything Felix von der Osten learned about Native Americans came from the books of 19th-century German writer Karl May.\n",
            "\n",
            "May's most beloved characters, a noble Apache leader named Winnetou and his cowboy blood brother Old Shatterhand, are said to be more popular today in\n",
            "Predicted topic: World\n",
            "--------------------\n",
            "(CNN) When photographer Richard Ross wants to talk to a child at a juvenile detention center, he knocks on their cell door. He asks them if he can come inside.\n",
            "\n",
            "The 67-year-old Californian is used to taking off his shoes when he enters homes, so he does the same in a cell.\n",
            "\n",
            "\"Most of the kids, they've never had that kind of respect,\" he said. \"But I give it to them, I give them the power. I sit on the floor so they're looking down on me.\"\n",
            "\n",
            "Ross doesn't begin by hammering them with questions. He w\n",
            "Predicted topic: World\n",
            "--------------------\n",
            "But he never experienced any like the Mayo camp, which is outside the Sudanese capital of Khartoum.\n",
            "\n",
            "Ten Hoopen was at the camp to photograph a new medical clinic for Emergency, a humanitarian group from Italy. He also hoped to document what life was like for refugees there.\n",
            "\n",
            "His hopes were dashed, however, when he was told he couldn't photograph outside the hospital compound.\n",
            "\n",
            "\"I had very, very hard restrictions from the Sudanese government. ... They are very well-skilled in keeping the media a\n",
            "Predicted topic: World\n",
            "--------------------\n"
          ],
          "name": "stdout"
        }
      ]
    },
    {
      "cell_type": "code",
      "metadata": {
        "id": "eJPhD3zg98xH",
        "colab_type": "code",
        "colab": {}
      },
      "source": [
        ""
      ],
      "execution_count": 0,
      "outputs": []
    }
  ]
}